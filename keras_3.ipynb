{
  "nbformat": 4,
  "nbformat_minor": 0,
  "metadata": {
    "colab": {
      "name": "keras_3.ipynb",
      "version": "0.3.2",
      "provenance": [],
      "private_outputs": true,
      "include_colab_link": true
    },
    "kernelspec": {
      "name": "python3",
      "display_name": "Python 3"
    },
    "accelerator": "GPU"
  },
  "cells": [
    {
      "cell_type": "markdown",
      "metadata": {
        "id": "view-in-github",
        "colab_type": "text"
      },
      "source": [
        "<a href=\"https://colab.research.google.com/github/yejianfeng2014/AI/blob/master/keras_3.ipynb\" target=\"_parent\"><img src=\"https://colab.research.google.com/assets/colab-badge.svg\" alt=\"Open In Colab\"/></a>"
      ]
    },
    {
      "metadata": {
        "id": "JBP9PXbaIfNh",
        "colab_type": "code",
        "colab": {}
      },
      "cell_type": "code",
      "source": [
        "import tensorflow as tf\n",
        "\n",
        "tf.__version__"
      ],
      "execution_count": 0,
      "outputs": []
    },
    {
      "metadata": {
        "id": "tWJko5N8Izz4",
        "colab_type": "text"
      },
      "cell_type": "markdown",
      "source": [
        "在Keras中，每个layer instance 都可以被看成是一个函数，其输入是一个tensor，输出也是一个tensor。例如在下面这个实现全连接网络的例子中，你可以看到第一个Dense层的输入是inputs，其输出是x，而且这个x又被当做是第二个Dense层的输入。最初的输入tensor和最后的输出tensor共同定义了模型。而模型的训练方法则跟Sequential model中的情况一致。\n"
      ]
    },
    {
      "metadata": {
        "id": "rvv0M8z-ItuL",
        "colab_type": "code",
        "colab": {}
      },
      "cell_type": "code",
      "source": [
        "from keras.layers import Input,Dense\n",
        "from keras.models import Model\n",
        "# this return a tensor\n",
        "inputs = Input(shape=(784,))\n",
        "\n",
        "# a layer instance is callable on a tensor, and returns a tensor\n",
        "x = Dense(64, activation = 'relu')(inputs)\n",
        "\n",
        "x= Dense(64,activation = 'relu')(x)\n",
        "\n",
        "predictions = Dense(10,activation = 'softmax')(x)\n",
        "\n",
        "# This creates a model that includes\n",
        "# the Input layer and three Dense layers\n",
        "\n",
        "model =Model(input = inputs,outputs = predictions)\n",
        "\n",
        "model.compile (optimizer = 'rmsprop',loss = 'categorical_crossentropy',metrix = ['accuracy'])\n",
        "\n",
        "# model.fit(data,label)\n",
        "\n",
        "\n",
        "\n",
        "model.summary()\n"
      ],
      "execution_count": 0,
      "outputs": []
    },
    {
      "metadata": {
        "id": "yQltIKrJMCDP",
        "colab_type": "text"
      },
      "cell_type": "markdown",
      "source": [
        "“多输入-多输出”模型\n",
        "---\n",
        "![avatar][doge] \n",
        "\n",
        "[doge]:data:image/png;base64,iVBORw0KGgoAAAANSUhEUgAAAR4AAAGJCAIAAADTyMt6AAAAAXNSR0IArs4c6QAAAARnQU1BAACxjwv8YQUAAAAJcEhZcwAADsMAAA7DAcdvqGQAAB9ASURBVHhe7Z1vaB5Hfsd9F3qld1zLcYUWjoMeftEchVIohb7pqxb0qqUchb4IhBwlEKcYXIMxNQZDCKQPGB8BYwjpGQcH2UZOhBMTYWFsHNn5h2OSGKuy/kWWLMuSLMtSZMmWZbvfR7/JaLzP86yeZ5+dndmZ7wchZubZnZ39zX5m9nme3X22PCWEWIBqBc4W0gYqiJmorqyqIZmQOHqL/y30ljZDp9SSDGkVqhUwVMslVCtgqJZLqFbAUC2XUK2AoVouoVoBQ7VcQrUChmq5hGoFDNVyCdUKGKrlEqrVPseOHUMjR0ZGVN4bolCrUqn42Uj/Q+d/C70lCrW8hWo1YuvWrZiOVGa9GX19fSrzLCjXjZS1kBWk0BVtNqC6sqt92LZtG0IpacxLOl0Lwq1fRWt19FNWKQa0QaV8xVUL0aEdHR2SNruvloRaOo3VcYRI2glthq66ssPjA5tGH+A8G4mUs+2EWjqNBFaXtBMchq5JXLXQ7FNIktJNtbOWpJHQcjqhzdBVV3Z4fEhYNzUkoZY+tcBapR7YCsBhC8WoTcfNFLV0pzuhzdBVV3Z7fKADNm1AilqlHtgKwGELpdfwP72PqJYVJHwIffrkY0YZraVazeOwhTJfmbbUhWpZAZtGZKUPtDC1UK3MuG0hemfTBlCt/DEnK0iSEkeqlRm3LUT/uu2gdiixWgFAtdIxZ6HSQbVcQrVSkDM9/dkgZjBkE7g95UsHzVOpTPillpyaJ/D5jALNUylf8b+F3tJm6PxSq3RQrYChWi6hWgFDtVxCtQKGarmEagUM1XIJ1QoYquWSUNXq6Ogo7/dRJu3siDO1GH0QpFp9fX3666bcr3dJVIg0SlTGAujZzO13oxajLwSp1rZ1JF32zgWIQMotLSm4UYvRF9qMfgFkaKF5dZLZF1KOCgUplEFWl+uFzSNELr/Gf5TIYkCWrNu5aon122SRTRwPuma52kPQDcaSujHSp3U30QyoQaUyUV05QxWMvoAaVMpXWm2h7gjJJjpX14ZCM8J6GaQlkroLgFlnoqdqI4+tyJJSM9JArw6QxktSiARKzAVQobkwMFvSEqhHpTJRXbnVKsw9AYy+z7TaQh1SySY6Vw9PSEi5LC+FQC9vhtQM/qada4K1pPv0YtgumoFEo3pqK0ws2Tythi5BdeVWq2D0Na2GrnhabWGjzgKJzpUgJ5bXnZ65c6VCjXSu3pxeHv/VEt8j5bUVIivrtgrqVKlMVFdutQpGX4M6VcpXWm2hxFY6AiAyui+a6Vy9PBIZOleWlA4FtelG9WgSFYJGS24KtqVSmaiu3GoVjL4G21IpX2m1hWZHADMyKZ2r+xFpWQb/9aZRg65Trygk+sLcutSgOxdLYkXdGFlSv6pJVAiq4/f3zWsJ3f5sVFdutQpz/wGj7zMZWmh2YpOdi8XwH5hhxIpSKN2kDxgplCX1MgJq01XhJWxCd59UohsAZNMaWbK2c2tLmgR1qlQmqitnqILRF1CnSvlKhhYi7GYfpSMRVhmbyIb0EdI8ut9bpc39qq7M6LuKfgFkaCFCIWNiMxTWueYI3jx6fM9Am/tVXZnRdxX9AsjWQgTEnPxTKKxz0aQMZxY4HprckVra3K/qyoy+q+gXgP8t9BZnahFAtQKGarmEagUM1XIJ1QoYquUSqhUwVMslVCtgqJZLqFbAUC2XUK2AoVouoVoBQ7VcUgq1vOWv/+U/VcpXVBAzodTyE/9DDySOJAMvvH1NpULE6yMj7NATquUMqhU2VMsZVCtsqJYzqFbYUC1nUK2woVrOoFphQ7WcQbXChmo5g2qFDdVyBtUKG6rlDKoVNlTLGVQrbKiWM6hW2FAtZ1CtsKFazqBaYUO1nEG1woZqOYNqhQ3VcgbVChuq5QyqFTZUyxlUK2yoljOoVthQLWdQrbChWs6gWmFDtZxBtcKGajmDaoUN1XIG1QobquUMqhU2VMsZVCtsqJYzqFbYUC1nUK2woVrOoFphQ7WcQbXChmo5g2qFDdVyBtUKG6rlDKoVNlTLGVQrbKiWM6hW2FAtZ1CtsKFazqBaYUO1nEG1woZqOYNqhQ3VcgbVChuq5QyqFTZUyxlUK2yoljOoVthQLWdQrbChWs6gWmFDtQpl7M7Ke1/OyB9Cr9ND08tqCRIKVKtQ7j9ce/mdAQTd/HvpcP+95UdqCRIK6FmVChEfTwhlvjL/jn46pV4jJSeesxIf1UpMXJyyQiKesxJPP8aQIU3+OGUFhtm5AXexp2rpsY1TVnhEclbiqVpAxjZOWUESw1mJv2phbHv13eucsoIkhrOSDbW2+Mcf//mvVMp7VBBJ0wR/VvKMWipFWqQUoVsfATziRz/+6W/2X/ijP/lTlfcbFcRWoFo5UIrQedjIyfkHKuU3VMsZVCtsqJYzqFbYUC1nUK2woVrOoFphQ7WcQbXChmo5g2qFje9qVSqVjo4OlQkLqhU2VKshIyMj2LutW7eqfN5QLcChM0EUamG7gGqplB2c9C+2iP3S9PX1qRdyBTWrVCvYVUumC8EMPUKgSrdsOXbsmBTi0EdalRqN0eHTq6MqKQHYhBQ2AnViRfynWiplB1dqYbsqY41sodtYx0bocTTLnotjEnpJywAjadEDC+s2YMlt27YhUauE6KfT6cLo+qmWjUZKeAUnQydWiVEtia/KGKOa2QdAR0dCL4VIyDLSGWZ8E9HEqymnAXph1EO1VCo/EFIJrzgmXSbpYoZO1IOFBanQBqhcpVphY51s66eA4Jpx0UYhsR6KDaR7sDBCub7sMzGVWAPpLTOaQiO1EpWkd1I7oA0q5TG5NxJhN+s0+1cSAtJ1+1eWkc7NPHRqxGFzxRzJFrqNdbKtn0KTodc0UkuQPkAiEfoUMIxhlQTN9FOroFqV8pjcG4lImn1k9u96pDeQ/mrUv9KzQLoGlUhW02SXobvrHlftgzaoVCtsrJNt/XRQp4RVNJM9N08YTNLVkhqQkJ6QwuaprTBHMrSneHJvpO4RwVSr7iGe3r+6W7GuHDOtArWAyuRKttBtrGPj+JDoAwmrjrguF0SzuqFHsNRCho0IvSpaRwrTqe3LHGmyDW6x0UjU6XDoxCraJVm9dqO50GR7Emysk219AkoROhuNlAMaiDbFD52oRC1kzSuAylWqFTbWybY+AaUIHfs3M/GqlRgjNfaGsQTYlkp5TCka6SfZQheCWs6hWlYp6dBJtXKgFKFj/2aGajmDaoUN1XIG1QobquUMqhU2VMsZVCtsvFar79nrzQqjmO1SrbDxWq2O9ZsRJY0NmZhXPdsAatn+lBZ7oVIeY7WRHDprKUItuahMK4S0PtblgjFtnQ0qlYqlqzY19kKXI1YbyaGzliLU0heMCdiQGQuxS9IoR1rQXYV1ZRlBCgG6U0r0pWvmtWe6R6VOSVvCdv25YK+RHDrrsrGOvdBjz82dN0MPpGNQohO6UHoLaum2wSKpCr2VOBOQXtRp/apZlSX0dn3GXiMTfYENmf1r9gvKkRZQLoWhDp0b69hrn/ZBwIbM0AMpQeB0EAHSKEFCQi+FSMgy0hmmMHp5wdxK7RbzBfWrlMfYa+T6yMmhM8nGOtnWb4aUgx7oiJtjklBXLR1TiTWQ2rAVyWr0VpDWNdgA9auUx9hrpPZBMCMvSAl6E0uqIuOoSPSvLCOdawqjlxfMrdRuMV9Qv0q1QkFqpYRegohEIvSaRmoJevVE6E0SW8wde6HLEXuNTDnoQbRD58Y62dZvhurpQgO1kNBx0X0gL2nS1ZIakJCekEITqdYc/3Kn7nZ9w14jOXTWZWOdbOs3QyJe2JCJedCLJxqJV93Qoy/VQkZYE+OiFEqdkraE7fpzwV4j10dODp1JNtbJtn4zFLDzKTQaLHPEXuhyxF4jEz5gQyZmv4snGtEs1KFzYx2r7cPBrcNXMGbPWcJ21+aCvUZy6KxLQWolBrbCwJBWwHYjVwtw6KylILXChmpx6KyFauUA1QobquUMqhU2VMsZVCtsqJYzqFbYUC1nUK2woVrOoFphQ7WcQbXChmo5g2qFTQ5qkcyoIHpMKRrpJ9lC53u4e6/NzSyuqgxpg/URgGREBbEVfFer+8rswXMTKkPCYnXtyQdfzapMcPiuFqK/88RQ/60llScB8cnwwv4z4yoTHL6rBS6PLe55f2Tt8ROVJ6EAry4O3VOZ4CiBWuCNj8bO9t9VGRIEiytrL78zgLMSlQ+Ocqg1Of/g1Xev33+4pvKk/PRem3vrwqTKhEg51AJHLk3hT2VI+dl3avTqzZDfQpdGLUxZmLgm7j5QeVJmbi883N45GPb759KoBfB2C2+6VIaUmfe+nOn87LbKBEqZ1MIgt+f9kctjiypPSsvOE0Njd1ZUJlDKpBbov7WEXgn4Y6UYGJi6v/vksMqES8nUAgfPTXRfCfYr/Bg4fPFWwBdhaMqn1szi6itHB+aWeGFhKcFZfSTdVz61AN4EHzp/U2VIqcBb5ddPR/FZVCnVwnutHccHccqu8qQ8vHl24vzAvMoETSnVAp8ML+ztHlUZUhJWVh+//M4A/qt80JRVLfDah99GMv4FA/oLs5bKhE6J1Rq7s7K9c5AXFpYIvMuK52vJEqsFDl+8FfyX+sEwt1T9aDeem4PKrdbiyhp6a3KeFxaWgA++msVQqDIRUG61QM/VuUrPDZUhHrP75HBUH+qWXi2cYOzqGv564juVJ16CN8Y7TwypTByUXi1w9Wb1wsJ4TuLLCN4Sd12eVpk4CEEtcKB3PIbL0koKRr3tnYO3Fx6qfBwEoha67dV3r99bfqTyxCdwWrHvVHTf7weiFjj+xXTYz1ooL4fO3+y5Oqcy0RCOWiurjzFxjc4uqzzxg9W1Jy+/M7C4Et03++GoBS4O3YvwxMNz0CkBP8czhaDUAlAr4KdGlpFKz404eyQ0tYaml3FaGMm11f4T/HM8UwhNLfDWhcnjX8T1FYq39FwN/DmeKQSo1r3lR5i4YvsWxU/2dgf+HM8UAlQLfPDV7IHeGN86e0UMz/FMIUy10J07TwxFO156Qtfl6Zhv+QlTLXDlxuKurmFeWOiQHccHg3+OZwrBqgUqPTcivAjAEyJ5jmcKIas1Of/glaMxXgfgA5E8xzOFkNUCONeP6s5WT1hdi+U5nikErpb8dFDMZ/xOiOc5nikErhY4PzD/2offqgwphHie45lC+GqtPX6yt3v0k+EFlSeWwZlCPM/xTCF8tcDA1P3tnYP86aBiiOo5nilEoRY4dP5mbM9mcAVOv/nzgiAWteaWVnGWMrPInw6yS2zP8UwhFrVA95XZg+d4omIXBJnfdggRqSU/HdR/ixcWWmRXV1zP8UwhIrXA56MLu0/ywkJbRPgczxTiUgu88dHY2f67KkNy5einU/ysSBOdWhN3qxcW8qeDcgfnArwD1SQ6tQDeZx+5NKUyJCfifI5nCjGqhSkLExemL5UneRDnczxTiFEtgLdbeNOlMqRt5EeKef+OSaRq4Y3B7pPDn4/ywsJ8iPY5nilEqhbAe4Mdx3lhYT5E+xzPFOJVC7x5dqL7Cn86qF3uLT+K9jmeKUSt1sxi9YK3yG+GbZ+Yn+OZQtRqga7L04fO31QZkok974/wuXS1xK4WTmO2dw7ysrfMTM4/iPk5ninErhbA+++93aM8OLIR+XM8U6BaVV778Fs+yyEbmLL4VJ+6UK0qo7PLOER4YWGr8DmeKVAtxdsfT/LEplUQtMif45kC1VLcW370ytEBvClXebIZq+s/UsyvLhpBtTY4/c2dSs8NlSGbwed4pkO1Nlh7/GRX1/CVG3waUVMc6B3nZz8pUK1n+Hriu50nhvQH8XwCVCPkR4r5HM8UqFaS/WfG8dYcbyS6Lk+/dLifR09d+BzPTaFaSW4vPMR4vL1z8IW3r+GPE5cGkdEDDZ/juSlU6xlGZ5f3nRoVqeSPNyNrMFNhGj90/ubFoXt8juemUK0N3vtyxpRK/vjcQg3eiOqwYGLv/Ow2x50UqNYGONs5cmlKHz3yxw8MNZPzDxLBwR8f4NMIqpVkYOr+rq5hfehcuM7PlxWra090WOQP77j4MU8jqFYdcAzhbOfF3/fj6Om9xqcUbYC3WPSqSahWQ4amlzF94Q2YypOnT/d2q8949p8Zp1fpUK00MH3xjgmTA73j8OrNsxP8eHBTClVrCyk5f/vvu//hld/94IfPqXxJUMdfsRStlkqRFvEkdKOzy6Wbr6gWSYOhywzVImkwdJmhWiQNhi4zVIukwdBlhmqRNBi6zFAtkgZDlxmqRdJg6DJDtQixAtUixApUixArUC1CrEC1CLEC1SLEClSLECtQLUKsQLUIsQLVCpBjx451dHSojAcg/n19fSoTDVQrQOAV7JL0tm3bsPt1Tdu6dSte0kvao1KpeKV6MVCt0BgZGTH3F2qJQol5A0YVphY2HVUXCK52mWrZIjFFQC1kARKqaB2UYMli1ALQuJgN+QPVCo2ERaIWDmszCHoaSaiFJVEiqKLvrZBCmfpkYjRBiSxctwaQaFUMJCJQGIVu1dVOOgEmYDpSme/VQgJB0BahUA50sxCLyZIANaAeSct5o3k+qTchjumXGtUAdDPiwdVRR7VsgQPanIj0Ma2PddMHJGRhKdSTj7mMFklILKk3l1IDQA1Uqxioli0aqaWPdfMoR4ksjHKkE9RVC+Alcy1ZLKUGQLUKg2rZImGCeSaGBLKme4hM3TnHpK5aGl1VSg2AJ4SFQbVsIf6ozLPHNDSo2mBEA2ntBhQyV9Qk1MJEhBKVeZZGNYBEq2LAjHORUC1bQAPz0DfVAgiFeYibagGsiBJBV4JEYtZCDWqhdTatASBrLhYD2GWVKhaqZQt5z9PoxKx9YIjpDLKbhtd2k/yEagUIDn17UwRmMHMaTEySdUmsEglUK0ASE0vuwBOEVKNKG4PG6I8K46GZyNiAapHAoVqEWIFqEWIFqkWIFagWIVagWoRYgWoRYgWqRYgVqBZJg6HLDNUiaTB0maFaJA2GLjNUi6TB0GWGapE0GLrMUC2SBkOXGapF0mDoMkO1SBoMXWaoFkmDocsM1SINuTy2+OuO3/Zem+u5Orf2+IkqJc0Ri1qkJX7ww+f+5jf/9a//0/vzv/irn/z8F/+48387/rvzZ798Xr1MmkMdf8XCacRf5pZWX/vw2/1nxu8/XFNFT59euD7/6rvXOz+7vbrG6ctrqJanXL25tL1z8IOvZlXeYHFl7a0LkzuOD2IZVUT8g2p5B95NvfflDLwamLqviuoBr2AXHINpqoj4BNXyC3hS6bnxxkdj95YfqaLG4JwQZ4Y4P7w4dE8VEW+gWh6BaQqTFaaslj4GHLuzsu/UKGycWVxVRcQDqJYv9Fydw/zz9cR3Kt8KUBGrv3J04PQ3d/jpvCdQLffcf7h2oHccM8/cUlvTDmat/WfG97w/Mjq7rIqIO6iWY3A6t/PE0NFPp/KabT4ZXpBP51dWH6si4gKq5ZKz/XdxFnd5bFHlcwLT4NsfVz+dv3Ij55pJ81AtN2BKeevCJE7ebi88VEV5039raVfX8MFzE/x03glUywETdx/sPjkMtWxfUYH6uy5PY2K8cH1eFZGioFpFc3HoHt4LFXmsw+R9p0ZfPz02Of9AFRH7UK3iwBxy+OKtnSeGcKyroqJYe/yk91r1w/3uK7P8dL4YqFZBzCyu4p0V3vk4/OBubmn1QO84zkWHpvnpvHWoVhFcHlvEGx7MGyrvlM9HF3YcHzxyaYqfzluFatkFZ1+dn93GoezV17j3H67h1HR752Dun/sTDdWyiNxwVem5Yd5w5Q84LdzVNfzm2Yk2rwIhdaFatrh6c+nVd6/XveHKHzCpvvflDNp5tv+uKiI5QbXyR45XnG713yrHrYqT8w8wu+KPn87nCNXKmcWVtTc+GmvyhiuvwMSF6QuDAh8NkAtUK0/khqvjX0yX9LsjDAd464U3YOk3OJNmoFq5cfqbOxj1s91w5RVXbixigDh88Zafn76UBaqVA3LD1d7u0WDu811ZfXzk0tSO44Ofjy6oItIiVKtdxu6s4BDM8YYrfxiaXt59cnj/mXF+Op8BqtUWcsPVJ8PBDu0YLz74alYuJQlv7LAK1coITpkOnb9p9YYrf8A+vn56bN+p0eIvLC4vVCsL+oarqC7Du3B9HtNX1+VpfjrfDFSrZYq/4cofFlfWMFfvPDFUlm/DHUK1WkDfcDV2Z0UVRcnXE9/tWH9wLz+dT4FqNYsPN1z5A4IgD+4N+COcNqFaTSE3XPVc9eKGK38YnV3GcLP/zDgf3FsL1dqEtfUbrrZ3+nXDlT8gPnIZCh/cm4BqpaFvuOLzxtLBrIUo7e0ejfxdqAnVagjerGMw7r7i9Q1XXiGfnWKS56fzgGrVASc2csMVfxuuVTC9v7X+s3oBXKbcJlQryb3lR298NPb66fLdcOUPGJJ2nhg6dP5mzCfSVOsZyn7DlT/gnBBhjPa7dUC1NpDrUHkmkyMx/6we1aoS3g1X/oD5X35WDyNXVOcCVKv6vSfedh+5FOANV/4wt6R+Vi+eB/fGrlbwN1x5xeejC3gre/TTKB7cG69a6N2D5yZ2nxzmE8KKBOfekfysXqRqxXnDlT/on9UL+BuOGNWSW/rOD/DX3Fyyulb9Xj7gjohLLd5w5Rs4Gw/1Z/UiUuv2wsM9748c6B3nSaBvBPmzerGoxRuuPGdu/Wf18AYsmE/nw1cLA+HRT6e2dw7ypxD9ByMgeurIpakAHg0QuFq84ap0QCqoBcHK/rN6IaslN1y99+WMypPykPKzemV5PxamWog+b7gqO+jE7iuzGBwTvwF9+ps7pZjQQlAr8bmt3HCF88DaAY+UDnSuPLhXenlmcfWlw/07jg/6fyNz6dWCSP9x5P/0RxS84SpIzg9Uv+XHmQg0e+Hta/jrujytXvOV0quFECPQ0GlxZU1uuCr7219SF4yhmLvEK/xh7vL8afvlVuv+w7WX3xmQWEMq3nAVMBg6dV/LX6XnhnrNS8qtFs4QzFj7f5JAMnPw3ITZ1/Ln8xlKidXCG1nMVGagX/x9Pz8SDJK5pepzDnefHE70uM+fZzRUa4v3PP9PL5pRlr9/+93FH/34p2oJd6gglhm1J/7x3B/84U9+/os/+8u/+9Xf//OvO377s18+r17wiWoAJY61yMvegrHq1XevwyW8nd3z/sjbH0/2Xpsbml724dJbz0PXJGHshRPKrdbk/IPzA/Njd1Y8/JCdakVOudXyGaoVOVTLFlQrcqiWLahW5FAtW1CtyKFatqBakUO1bEG1Iodq2YJqRU74avX19TnZC6rlCSMjI9gL/Ff5opDQNQxfAJGlWu0QwF7ErpYIgP9ISywk3QgsIGzdulVKjh07ptMAaZQAtdw66rVCKHhzlihsLyqVSkdHh8o8fbptHZWpB/p3vUurSEliDEVtqFMKNUUKhs1V/0umFnm5GBBKcUOCIoV1Qav0AlgYIFFXLSQSES8MJxvNncL2IjG3IJ0ytqJztXj6sKmrFhKJmgtDGtMwfGZbCwAxElS+HgmFdECplg2K3AstQ6IrEyQ6VJtDtdJATLFFUaIReFWmKUEHLtEfVCsXitwL3YPairqgQxPioZEoTHQ01XoGbA7ze/pGEwrpgCJBtXKn4L3A5qS/UkxIdKg2RxKqlGqZQCqABIIiiUagVXpU0wtLBBF3pPEq0qKW28iWnYL3Ar2JMRH/Vb4BWEYfIUjo5XWn4z/S+iBBWg6MIpHQuVdLYiFpU5K6yAKCKaEYJYUIt0QZII1Cc04rAGxRpcpMwXshh4HuuBSwmGB6KKtLIY4BrRbSUi7ZYpDNNdxkwa0JiTBCV/BebHo2WCKoli2oVgYwz5izUKnxVy09uScoy5CGpqpUmSl4L3DSrs/iZAarpfh3TdlAU6v/JVOLvEwyEEboeABkhmrZgmpFDtWyBdWKHKplC6oVOVTLFlQrcqiWLahW5LhUq6/mOstiKGa7VGtTYjgA3KhlXouEDZnY/vIKkbX99Qj2QqXKjNW9iOEAcKCWXAeoI4i03lX5slgH3QaVSsW8+NAG9kJXJDwAMiOhc6AWAmdOymZkgQRX0ihHWtDhxrqyjCCFAAOhlOjrZRBEKQG6I6VOSVvCdv3FYG8vIjkAGm7D3uYxZpjDBjZkRlaGNJTohC6U6CCyum0IolSV6C1g9pD5qlmVJfR2S429vYjkAGgYPt2s3NHhELAhM7JASjDk6OEHII0SJBAjREoKkZBlJI5mvPTygrmV2i3mC+pXqTJjby8iOQDcqNVon4EMKhJZJEzqRlaPRhJcILVhK5LVmJHVNdgA9atUmbG3F5EcAG7UShm0JEBIII5YUgpNGkVW0Ksn+s8kscXcsRe6IrG3F5EcAA3DJy/bAGFtFFkkkJXA6dFLXtKkR1ZqQEKHOIFUa5455E7d7ZYOe3sRyQHQMHx1m5ULiXBgQybmPkuYNBLlupFFV6mFjM7AoKWK1pFCHXp72K6/GOztRSQHQMNt2Nt8AcNGCo1OM3LEds8VAw+AzEjoHKgFsG964CkYc8yzBNXalBgOADdq6Xm8YHAyUMB2qdamxHAAuFErbKhW5FAtW1CtyKFatqBakUO1bEG1Iodq2YJqRQ7VsgXVihyqZQuqFTlUyxZUK3Koli2oVuRsrhbJjApimVF7QjJRDaDEkRCSJ0+f/j+c3tvTMsnWggAAAABJRU5ErkJggg==\n",
        "\n",
        "\n"
      ]
    },
    {
      "metadata": {
        "id": "c0dpgWwvJPs9",
        "colab_type": "code",
        "colab": {}
      },
      "cell_type": "code",
      "source": [
        "from keras.layers import concatenate\n",
        "x_in  = Input(shape = (100,) ,name = 'x_in')\n",
        "\n",
        "y_in = Input(shape = (100,) ,name = 'y_in')\n",
        "\n",
        "x = Dense (64,activation = 'relu')(x_in)\n",
        "\n",
        "y = Dense( 64,activation = 'relu')(y_in)\n",
        "\n",
        "z = concatenate ([x,y])\n",
        "\n",
        "x = Dense(1,activation = 'sigmoid' ,name = 'x_out')(z)\n",
        "\n",
        "y = Dense(10,activation = 'softmax', name = 'y_out')(z)\n",
        "\n",
        "\n",
        "model = Model(inputs=[x_in, y_in], outputs=[x, y])\n",
        " \n",
        "model.summary()\n",
        "\n",
        "\n",
        "\n"
      ],
      "execution_count": 0,
      "outputs": []
    },
    {
      "metadata": {
        "id": "WiY3flHfPvb5",
        "colab_type": "code",
        "colab": {}
      },
      "cell_type": "code",
      "source": [
        "from keras.utils import to_categorical\n",
        " \n",
        "import numpy as np\n",
        "data = np.random.random((1000, 100))\n",
        "xs = np.random.randint(2, size=(1000, 1))\n",
        "ys = np.random.randint(10, size=(1000, 1))\n",
        " \n",
        "model.compile(optimizer='rmsprop', loss=['binary_crossentropy', 'categorical_crossentropy'],\n",
        "              loss_weights=[1., 0.2])\n",
        " \n",
        "model.fit([data, data], [xs, to_categorical(ys)],\n",
        "          epochs=10, batch_size=32)\n"
      ],
      "execution_count": 0,
      "outputs": []
    },
    {
      "metadata": {
        "id": "1bPcM-PP0Z8i",
        "colab_type": "text"
      },
      "cell_type": "markdown",
      "source": [
        "你也可以使用字典 (refering to the names of the output tensors)："
      ]
    },
    {
      "metadata": {
        "id": "1x22GVU2z97G",
        "colab_type": "code",
        "colab": {}
      },
      "cell_type": "code",
      "source": [
        "model.compile(optimizer='rmsprop',\n",
        "              loss={'x_out': 'binary_crossentropy', 'y_out': 'categorical_crossentropy'},\n",
        "              loss_weights={'x_out': 1., 'y_out': 0.2})\n",
        " \n",
        "# And trained it via:\n",
        "model.fit({'x_in': data, 'y_in': data},\n",
        "          {'x_out': xs, 'y_out': to_categorical(ys)},\n",
        "          epochs=1, batch_size=32)\n"
      ],
      "execution_count": 0,
      "outputs": []
    },
    {
      "metadata": {
        "id": "xx1Y_E9z1sRO",
        "colab_type": "text"
      },
      "cell_type": "markdown",
      "source": [
        "共享层"
      ]
    },
    {
      "metadata": {
        "id": "M0oTLlwx1sQQ",
        "colab_type": "text"
      },
      "cell_type": "markdown",
      "source": [
        ""
      ]
    },
    {
      "metadata": {
        "id": "w6uHpS6M0TzR",
        "colab_type": "code",
        "colab": {}
      },
      "cell_type": "code",
      "source": [
        "inputs = Input(shape=(64,))\n",
        "\n",
        "# a layer instance is callable on a tensor, and returns a tensor\n",
        "layer_we_share = Dense(64, activation='relu')\n",
        "\n",
        "# Now we apply the layer twice\n",
        "x = layer_we_share(inputs)\n",
        "x = layer_we_share(x)\n",
        "\n",
        "predictions = Dense(10, activation='softmax')(x)\n",
        "\n",
        "model = Model(inputs=inputs, outputs=predictions)\n",
        "model.compile(optimizer='rmsprop',\n",
        "              loss='categorical_crossentropy',\n",
        "              metrics=['accuracy'])\n",
        "\n",
        "model.summary()"
      ],
      "execution_count": 0,
      "outputs": []
    },
    {
      "metadata": {
        "id": "mhaJ5VQ51xL6",
        "colab_type": "code",
        "colab": {}
      },
      "cell_type": "code",
      "source": [
        ""
      ],
      "execution_count": 0,
      "outputs": []
    }
  ]
}